{
 "cells": [
  {
   "cell_type": "code",
   "execution_count": 1,
   "id": "9671dcd4-1a45-4d51-988c-c0676713f1c7",
   "metadata": {},
   "outputs": [
    {
     "name": "stderr",
     "output_type": "stream",
     "text": [
      "2024-06-20 11:52:45.451902: E tensorflow/compiler/xla/stream_executor/cuda/cuda_dnn.cc:9342] Unable to register cuDNN factory: Attempting to register factory for plugin cuDNN when one has already been registered\n",
      "2024-06-20 11:52:45.451955: E tensorflow/compiler/xla/stream_executor/cuda/cuda_fft.cc:609] Unable to register cuFFT factory: Attempting to register factory for plugin cuFFT when one has already been registered\n",
      "2024-06-20 11:52:45.451980: E tensorflow/compiler/xla/stream_executor/cuda/cuda_blas.cc:1518] Unable to register cuBLAS factory: Attempting to register factory for plugin cuBLAS when one has already been registered\n",
      "2024-06-20 11:52:45.459646: I tensorflow/core/platform/cpu_feature_guard.cc:182] This TensorFlow binary is optimized to use available CPU instructions in performance-critical operations.\n",
      "To enable the following instructions: AVX2 FMA, in other operations, rebuild TensorFlow with the appropriate compiler flags.\n"
     ]
    },
    {
     "name": "stdout",
     "output_type": "stream",
     "text": [
      "Num GPUs Available:  1\n",
      "CUDA_VISIBLE_DEVICES: None\n",
      "LD_LIBRARY_PATH: /usr/local/nvidia/lib:/usr/local/nvidia/lib64\n",
      "PATH: /usr/local/nvidia/bin:/usr/local/cuda/bin:/usr/local/sbin:/usr/local/bin:/usr/sbin:/usr/bin:/sbin:/bin\n",
      "CUDA_HOME: None\n",
      "CUDA_PATH: None\n"
     ]
    },
    {
     "name": "stderr",
     "output_type": "stream",
     "text": [
      "2024-06-20 11:52:47.060173: I tensorflow/compiler/xla/stream_executor/cuda/cuda_gpu_executor.cc:880] could not open file to read NUMA node: /sys/bus/pci/devices/0000:01:00.0/numa_node\n",
      "Your kernel may have been built without NUMA support.\n",
      "2024-06-20 11:52:47.093080: I tensorflow/compiler/xla/stream_executor/cuda/cuda_gpu_executor.cc:880] could not open file to read NUMA node: /sys/bus/pci/devices/0000:01:00.0/numa_node\n",
      "Your kernel may have been built without NUMA support.\n",
      "2024-06-20 11:52:47.093118: I tensorflow/compiler/xla/stream_executor/cuda/cuda_gpu_executor.cc:880] could not open file to read NUMA node: /sys/bus/pci/devices/0000:01:00.0/numa_node\n",
      "Your kernel may have been built without NUMA support.\n"
     ]
    }
   ],
   "source": [
    "## Overfit and underfit\n",
    "import tensorflow as tf\n",
    "import os\n",
    "# Vérifiez si TensorFlow détecte les GPU disponibles\n",
    "print(\"Num GPUs Available: \", len(tf.config.list_physical_devices('GPU')))\n",
    "\n",
    "# Affichez des informations sur les dispositifs GPU\n",
    "print(\"CUDA_VISIBLE_DEVICES:\", os.environ.get(\"CUDA_VISIBLE_DEVICES\"))\n",
    "print(\"LD_LIBRARY_PATH:\", os.environ.get(\"LD_LIBRARY_PATH\"))\n",
    "print(\"PATH:\", os.environ.get(\"PATH\"))\n",
    "print(\"CUDA_HOME:\", os.environ.get(\"CUDA_HOME\"))\n",
    "print(\"CUDA_PATH:\", os.environ.get(\"CUDA_PATH\"))"
   ]
  },
  {
   "cell_type": "code",
   "execution_count": 6,
   "id": "5c6ce179-1e2e-45ca-a59a-3f0d4f0a0b65",
   "metadata": {},
   "outputs": [
    {
     "name": "stdout",
     "output_type": "stream",
     "text": [
      "CUDA libraries loaded successfully\n"
     ]
    }
   ],
   "source": [
    "import ctypes\n",
    "import os\n",
    "\n",
    "# Définir les variables d'environnement si nécessaire\n",
    "os.environ['CUDA_VISIBLE_DEVICES'] = ''  # Ou spécifiez les GPU visibles\n",
    "\n",
    "# Recharger les bibliothèques CUDA\n",
    "try:\n",
    "    ctypes.CDLL('libcuda.so', mode=ctypes.RTLD_GLOBAL)\n",
    "    ctypes.CDLL('libcudart.so', mode=ctypes.RTLD_GLOBAL)\n",
    "    print(\"CUDA libraries loaded successfully\")\n",
    "except OSError as e:\n",
    "    print(\"Error loading CUDA libraries:\", e)"
   ]
  },
  {
   "cell_type": "code",
   "execution_count": 2,
   "id": "9574a9ff-b9da-4b49-92da-57860e965935",
   "metadata": {},
   "outputs": [
    {
     "name": "stdout",
     "output_type": "stream",
     "text": [
      "TensorFlow - CUDA disponible: True\n",
      "TensorFlow - GPU disponible: [PhysicalDevice(name='/physical_device:GPU:0', device_type='GPU')]\n",
      "TensorFlow - CUDA disponible: True\n"
     ]
    }
   ],
   "source": [
    "# Vérification CUDA pour TensorFlow\n",
    "print(\"TensorFlow - CUDA disponible:\", tf.test.is_built_with_cuda())\n",
    "print(\"TensorFlow - GPU disponible:\", tf.config.list_physical_devices('GPU'))\n",
    "print(\"TensorFlow - CUDA disponible:\", tf.test.is_built_with_cuda())\n"
   ]
  },
  {
   "cell_type": "code",
   "execution_count": 3,
   "id": "fc62c687-c870-4842-8e46-364adda17899",
   "metadata": {},
   "outputs": [
    {
     "name": "stdout",
     "output_type": "stream",
     "text": [
      "2.14.0\n"
     ]
    }
   ],
   "source": [
    "import tensorflow as tf\n",
    "\n",
    "from tensorflow.keras import layers\n",
    "from tensorflow.keras import regularizers\n",
    "\n",
    "print(tf.__version__)"
   ]
  },
  {
   "cell_type": "code",
   "execution_count": 40,
   "id": "9b21c55b-e75c-4003-aef3-55ffa3edd001",
   "metadata": {},
   "outputs": [
    {
     "name": "stdout",
     "output_type": "stream",
     "text": [
      "Requirement already satisfied: tensorflow-docs in /usr/local/lib/python3.11/dist-packages (2024.2.5.73858)\n",
      "\u001b[33mWARNING: Running pip as the 'root' user can result in broken permissions and conflicting behaviour with the system package manager. It is recommended to use a virtual environment instead: https://pip.pypa.io/warnings/venv\u001b[0m\u001b[33m\n",
      "\u001b[0m\n",
      "\u001b[1m[\u001b[0m\u001b[34;49mnotice\u001b[0m\u001b[1;39;49m]\u001b[0m\u001b[39;49m A new release of pip is available: \u001b[0m\u001b[31;49m23.2.1\u001b[0m\u001b[39;49m -> \u001b[0m\u001b[32;49m24.0\u001b[0m\n",
      "\u001b[1m[\u001b[0m\u001b[34;49mnotice\u001b[0m\u001b[1;39;49m]\u001b[0m\u001b[39;49m To update, run: \u001b[0m\u001b[32;49mpython3 -m pip install --upgrade pip\u001b[0m\n",
      "Collecting matplotlib\n",
      "  Obtaining dependency information for matplotlib from https://files.pythonhosted.org/packages/41/f1/115e7c79b4506b4f0533acba742babd9718ff92eeca6d4205843173b6173/matplotlib-3.9.0-cp311-cp311-manylinux_2_17_x86_64.manylinux2014_x86_64.whl.metadata\n",
      "  Downloading matplotlib-3.9.0-cp311-cp311-manylinux_2_17_x86_64.manylinux2014_x86_64.whl.metadata (11 kB)\n",
      "Collecting contourpy>=1.0.1 (from matplotlib)\n",
      "  Obtaining dependency information for contourpy>=1.0.1 from https://files.pythonhosted.org/packages/ee/c0/9bd123d676eb61750e116a2cd915b06483fc406143cfc36c7f263f0f5368/contourpy-1.2.1-cp311-cp311-manylinux_2_17_x86_64.manylinux2014_x86_64.whl.metadata\n",
      "  Downloading contourpy-1.2.1-cp311-cp311-manylinux_2_17_x86_64.manylinux2014_x86_64.whl.metadata (5.8 kB)\n",
      "Collecting cycler>=0.10 (from matplotlib)\n",
      "  Obtaining dependency information for cycler>=0.10 from https://files.pythonhosted.org/packages/e7/05/c19819d5e3d95294a6f5947fb9b9629efb316b96de511b418c53d245aae6/cycler-0.12.1-py3-none-any.whl.metadata\n",
      "  Downloading cycler-0.12.1-py3-none-any.whl.metadata (3.8 kB)\n",
      "Collecting fonttools>=4.22.0 (from matplotlib)\n",
      "  Obtaining dependency information for fonttools>=4.22.0 from https://files.pythonhosted.org/packages/0a/79/b5be063ea65d048a041ad8438fa1e8c7c4bf9dc3f4ac2794a850fe70c5c5/fonttools-4.53.0-cp311-cp311-manylinux_2_17_x86_64.manylinux2014_x86_64.whl.metadata\n",
      "  Downloading fonttools-4.53.0-cp311-cp311-manylinux_2_17_x86_64.manylinux2014_x86_64.whl.metadata (162 kB)\n",
      "\u001b[2K     \u001b[90m━━━━━━━━━━━━━━━━━━━━━━━━━━━━━━━━━━━━━━━\u001b[0m \u001b[32m162.2/162.2 kB\u001b[0m \u001b[31m5.9 MB/s\u001b[0m eta \u001b[36m0:00:00\u001b[0m\n",
      "\u001b[?25hCollecting kiwisolver>=1.3.1 (from matplotlib)\n",
      "  Obtaining dependency information for kiwisolver>=1.3.1 from https://files.pythonhosted.org/packages/17/ba/17a706b232308e65f57deeccae503c268292e6a091313f6ce833a23093ea/kiwisolver-1.4.5-cp311-cp311-manylinux_2_17_x86_64.manylinux2014_x86_64.whl.metadata\n",
      "  Downloading kiwisolver-1.4.5-cp311-cp311-manylinux_2_17_x86_64.manylinux2014_x86_64.whl.metadata (6.4 kB)\n",
      "Requirement already satisfied: numpy>=1.23 in /usr/local/lib/python3.11/dist-packages (from matplotlib) (1.26.0)\n",
      "Requirement already satisfied: packaging>=20.0 in /usr/local/lib/python3.11/dist-packages (from matplotlib) (23.1)\n",
      "Collecting pillow>=8 (from matplotlib)\n",
      "  Obtaining dependency information for pillow>=8 from https://files.pythonhosted.org/packages/81/ff/ad3c942d865f9e45ce84eeb31795e6d4d94e1f1eea51026d5154028510d7/pillow-10.3.0-cp311-cp311-manylinux_2_28_x86_64.whl.metadata\n",
      "  Downloading pillow-10.3.0-cp311-cp311-manylinux_2_28_x86_64.whl.metadata (9.2 kB)\n",
      "Requirement already satisfied: pyparsing>=2.3.1 in /usr/lib/python3/dist-packages (from matplotlib) (2.4.7)\n",
      "Requirement already satisfied: python-dateutil>=2.7 in /usr/local/lib/python3.11/dist-packages (from matplotlib) (2.9.0.post0)\n",
      "Requirement already satisfied: six>=1.5 in /usr/lib/python3/dist-packages (from python-dateutil>=2.7->matplotlib) (1.16.0)\n",
      "Downloading matplotlib-3.9.0-cp311-cp311-manylinux_2_17_x86_64.manylinux2014_x86_64.whl (8.3 MB)\n",
      "\u001b[2K   \u001b[90m━━━━━━━━━━━━━━━━━━━━━━━━━━━━━━━━━━━━━━━━\u001b[0m \u001b[32m8.3/8.3 MB\u001b[0m \u001b[31m22.0 MB/s\u001b[0m eta \u001b[36m0:00:00\u001b[0m00:01\u001b[0m00:01\u001b[0m\n",
      "\u001b[?25hDownloading contourpy-1.2.1-cp311-cp311-manylinux_2_17_x86_64.manylinux2014_x86_64.whl (306 kB)\n",
      "\u001b[2K   \u001b[90m━━━━━━━━━━━━━━━━━━━━━━━━━━━━━━━━━━━━━━━━\u001b[0m \u001b[32m306.0/306.0 kB\u001b[0m \u001b[31m13.2 MB/s\u001b[0m eta \u001b[36m0:00:00\u001b[0m\n",
      "\u001b[?25hDownloading cycler-0.12.1-py3-none-any.whl (8.3 kB)\n",
      "Downloading fonttools-4.53.0-cp311-cp311-manylinux_2_17_x86_64.manylinux2014_x86_64.whl (4.9 MB)\n",
      "\u001b[2K   \u001b[90m━━━━━━━━━━━━━━━━━━━━━━━━━━━━━━━━━━━━━━━━\u001b[0m \u001b[32m4.9/4.9 MB\u001b[0m \u001b[31m25.1 MB/s\u001b[0m eta \u001b[36m0:00:00\u001b[0m00:01\u001b[0m00:01\u001b[0m\n",
      "\u001b[?25hDownloading kiwisolver-1.4.5-cp311-cp311-manylinux_2_17_x86_64.manylinux2014_x86_64.whl (1.4 MB)\n",
      "\u001b[2K   \u001b[90m━━━━━━━━━━━━━━━━━━━━━━━━━━━━━━━━━━━━━━━━\u001b[0m \u001b[32m1.4/1.4 MB\u001b[0m \u001b[31m28.3 MB/s\u001b[0m eta \u001b[36m0:00:00\u001b[0ma \u001b[36m0:00:01\u001b[0m\n",
      "\u001b[?25hDownloading pillow-10.3.0-cp311-cp311-manylinux_2_28_x86_64.whl (4.5 MB)\n",
      "\u001b[2K   \u001b[90m━━━━━━━━━━━━━━━━━━━━━━━━━━━━━━━━━━━━━━━━\u001b[0m \u001b[32m4.5/4.5 MB\u001b[0m \u001b[31m20.9 MB/s\u001b[0m eta \u001b[36m0:00:00\u001b[0m00:01\u001b[0m00:01\u001b[0m\n",
      "\u001b[?25hInstalling collected packages: pillow, kiwisolver, fonttools, cycler, contourpy, matplotlib\n",
      "Successfully installed contourpy-1.2.1 cycler-0.12.1 fonttools-4.53.0 kiwisolver-1.4.5 matplotlib-3.9.0 pillow-10.3.0\n",
      "\u001b[33mWARNING: Running pip as the 'root' user can result in broken permissions and conflicting behaviour with the system package manager. It is recommended to use a virtual environment instead: https://pip.pypa.io/warnings/venv\u001b[0m\u001b[33m\n",
      "\u001b[0m\n",
      "\u001b[1m[\u001b[0m\u001b[34;49mnotice\u001b[0m\u001b[1;39;49m]\u001b[0m\u001b[39;49m A new release of pip is available: \u001b[0m\u001b[31;49m23.2.1\u001b[0m\u001b[39;49m -> \u001b[0m\u001b[32;49m24.0\u001b[0m\n",
      "\u001b[1m[\u001b[0m\u001b[34;49mnotice\u001b[0m\u001b[1;39;49m]\u001b[0m\u001b[39;49m To update, run: \u001b[0m\u001b[32;49mpython3 -m pip install --upgrade pip\u001b[0m\n"
     ]
    }
   ],
   "source": [
    "!pip install tensorflow-docs --no-deps\n",
    "!pip install matplotlib"
   ]
  },
  {
   "cell_type": "code",
   "execution_count": 41,
   "id": "3a570ebf-c577-459c-87e7-5cf1bccd0c51",
   "metadata": {},
   "outputs": [],
   "source": [
    "import tensorflow_docs as tfdocs \n",
    "import tensorflow_docs.modeling\n",
    "import tensorflow_docs.plots"
   ]
  },
  {
   "cell_type": "code",
   "execution_count": 6,
   "id": "a921437e-7530-40b2-9030-770e85cfd1e6",
   "metadata": {},
   "outputs": [],
   "source": [
    "from  IPython import display\n",
    "#from matplotlib import pyplot as plt\n",
    "\n",
    "import numpy as np\n",
    "\n",
    "import pathlib\n",
    "import shutil\n",
    "import tempfile"
   ]
  },
  {
   "cell_type": "code",
   "execution_count": 45,
   "id": "6bb0d20e-1e96-4937-a7a7-e5b5a7ef8085",
   "metadata": {},
   "outputs": [],
   "source": [
    "import datetime\n",
    "logdir = \"logs/fit/\" + datetime.datetime.now().strftime(\"%Y%m%d-%H%M%S\")\n",
    "shutil.rmtree(logdir, ignore_errors=True)\n"
   ]
  },
  {
   "cell_type": "code",
   "execution_count": 7,
   "id": "c7e416d7-35c3-4aac-85d3-2fe6d5b60ccf",
   "metadata": {},
   "outputs": [
    {
     "name": "stdout",
     "output_type": "stream",
     "text": [
      "Downloading data from http://mlphysics.ics.uci.edu/data/higgs/HIGGS.csv.gz\n",
      "2816407858/2816407858 [==============================] - 871s 0us/step\n"
     ]
    }
   ],
   "source": [
    "gz = tf.keras.utils.get_file('HIGGS.csv.gz', 'http://mlphysics.ics.uci.edu/data/higgs/HIGGS.csv.gz')\n"
   ]
  },
  {
   "cell_type": "code",
   "execution_count": 10,
   "id": "e3c918b8-c5cf-4356-8f54-b8441634d0b8",
   "metadata": {},
   "outputs": [],
   "source": [
    "FEATURES = 28\n"
   ]
  },
  {
   "cell_type": "code",
   "execution_count": 11,
   "id": "a988cc58-5ff2-45d0-ad74-de0b710833c2",
   "metadata": {},
   "outputs": [
    {
     "name": "stdout",
     "output_type": "stream",
     "text": [
      "Row 1: (<tf.Tensor: shape=(), dtype=float32, numpy=1.0>, <tf.Tensor: shape=(), dtype=float32, numpy=0.8692932>, <tf.Tensor: shape=(), dtype=float32, numpy=-0.6350818>, <tf.Tensor: shape=(), dtype=float32, numpy=0.22569026>, <tf.Tensor: shape=(), dtype=float32, numpy=0.32747006>, <tf.Tensor: shape=(), dtype=float32, numpy=-0.6899932>, <tf.Tensor: shape=(), dtype=float32, numpy=0.75420225>, <tf.Tensor: shape=(), dtype=float32, numpy=-0.24857314>, <tf.Tensor: shape=(), dtype=float32, numpy=-1.0920639>, <tf.Tensor: shape=(), dtype=float32, numpy=0.0>, <tf.Tensor: shape=(), dtype=float32, numpy=1.3749921>, <tf.Tensor: shape=(), dtype=float32, numpy=-0.6536742>, <tf.Tensor: shape=(), dtype=float32, numpy=0.9303491>, <tf.Tensor: shape=(), dtype=float32, numpy=1.1074361>, <tf.Tensor: shape=(), dtype=float32, numpy=1.1389043>, <tf.Tensor: shape=(), dtype=float32, numpy=-1.5781983>, <tf.Tensor: shape=(), dtype=float32, numpy=-1.0469854>, <tf.Tensor: shape=(), dtype=float32, numpy=0.0>, <tf.Tensor: shape=(), dtype=float32, numpy=0.65792954>, <tf.Tensor: shape=(), dtype=float32, numpy=-0.01045457>, <tf.Tensor: shape=(), dtype=float32, numpy=-0.04576717>, <tf.Tensor: shape=(), dtype=float32, numpy=3.1019614>, <tf.Tensor: shape=(), dtype=float32, numpy=1.35376>, <tf.Tensor: shape=(), dtype=float32, numpy=0.9795631>, <tf.Tensor: shape=(), dtype=float32, numpy=0.97807616>, <tf.Tensor: shape=(), dtype=float32, numpy=0.92000484>, <tf.Tensor: shape=(), dtype=float32, numpy=0.72165745>, <tf.Tensor: shape=(), dtype=float32, numpy=0.98875093>, <tf.Tensor: shape=(), dtype=float32, numpy=0.87667835>)\n",
      "Row 2: (<tf.Tensor: shape=(), dtype=float32, numpy=1.0>, <tf.Tensor: shape=(), dtype=float32, numpy=0.9075421>, <tf.Tensor: shape=(), dtype=float32, numpy=0.32914728>, <tf.Tensor: shape=(), dtype=float32, numpy=0.35941187>, <tf.Tensor: shape=(), dtype=float32, numpy=1.4979699>, <tf.Tensor: shape=(), dtype=float32, numpy=-0.31300953>, <tf.Tensor: shape=(), dtype=float32, numpy=1.0955306>, <tf.Tensor: shape=(), dtype=float32, numpy=-0.5575249>, <tf.Tensor: shape=(), dtype=float32, numpy=-1.5882298>, <tf.Tensor: shape=(), dtype=float32, numpy=2.1730762>, <tf.Tensor: shape=(), dtype=float32, numpy=0.8125812>, <tf.Tensor: shape=(), dtype=float32, numpy=-0.21364193>, <tf.Tensor: shape=(), dtype=float32, numpy=1.2710146>, <tf.Tensor: shape=(), dtype=float32, numpy=2.2148721>, <tf.Tensor: shape=(), dtype=float32, numpy=0.49999395>, <tf.Tensor: shape=(), dtype=float32, numpy=-1.2614318>, <tf.Tensor: shape=(), dtype=float32, numpy=0.73215616>, <tf.Tensor: shape=(), dtype=float32, numpy=0.0>, <tf.Tensor: shape=(), dtype=float32, numpy=0.3987009>, <tf.Tensor: shape=(), dtype=float32, numpy=-1.1389301>, <tf.Tensor: shape=(), dtype=float32, numpy=-0.0008191102>, <tf.Tensor: shape=(), dtype=float32, numpy=0.0>, <tf.Tensor: shape=(), dtype=float32, numpy=0.3022199>, <tf.Tensor: shape=(), dtype=float32, numpy=0.83304816>, <tf.Tensor: shape=(), dtype=float32, numpy=0.98569965>, <tf.Tensor: shape=(), dtype=float32, numpy=0.9780984>, <tf.Tensor: shape=(), dtype=float32, numpy=0.77973217>, <tf.Tensor: shape=(), dtype=float32, numpy=0.99235576>, <tf.Tensor: shape=(), dtype=float32, numpy=0.7983426>)\n",
      "Row 3: (<tf.Tensor: shape=(), dtype=float32, numpy=1.0>, <tf.Tensor: shape=(), dtype=float32, numpy=0.79883474>, <tf.Tensor: shape=(), dtype=float32, numpy=1.4706388>, <tf.Tensor: shape=(), dtype=float32, numpy=-1.6359748>, <tf.Tensor: shape=(), dtype=float32, numpy=0.45377317>, <tf.Tensor: shape=(), dtype=float32, numpy=0.42562917>, <tf.Tensor: shape=(), dtype=float32, numpy=1.1048746>, <tf.Tensor: shape=(), dtype=float32, numpy=1.2823223>, <tf.Tensor: shape=(), dtype=float32, numpy=1.3816643>, <tf.Tensor: shape=(), dtype=float32, numpy=0.0>, <tf.Tensor: shape=(), dtype=float32, numpy=0.8517372>, <tf.Tensor: shape=(), dtype=float32, numpy=1.540659>, <tf.Tensor: shape=(), dtype=float32, numpy=-0.8196895>, <tf.Tensor: shape=(), dtype=float32, numpy=2.2148721>, <tf.Tensor: shape=(), dtype=float32, numpy=0.9934899>, <tf.Tensor: shape=(), dtype=float32, numpy=0.3560801>, <tf.Tensor: shape=(), dtype=float32, numpy=-0.20877755>, <tf.Tensor: shape=(), dtype=float32, numpy=2.5482244>, <tf.Tensor: shape=(), dtype=float32, numpy=1.2569546>, <tf.Tensor: shape=(), dtype=float32, numpy=1.1288476>, <tf.Tensor: shape=(), dtype=float32, numpy=0.90046084>, <tf.Tensor: shape=(), dtype=float32, numpy=0.0>, <tf.Tensor: shape=(), dtype=float32, numpy=0.90975326>, <tf.Tensor: shape=(), dtype=float32, numpy=1.1083305>, <tf.Tensor: shape=(), dtype=float32, numpy=0.9856922>, <tf.Tensor: shape=(), dtype=float32, numpy=0.95133126>, <tf.Tensor: shape=(), dtype=float32, numpy=0.8032515>, <tf.Tensor: shape=(), dtype=float32, numpy=0.8659244>, <tf.Tensor: shape=(), dtype=float32, numpy=0.7801176>)\n",
      "Row 4: (<tf.Tensor: shape=(), dtype=float32, numpy=0.0>, <tf.Tensor: shape=(), dtype=float32, numpy=1.3443848>, <tf.Tensor: shape=(), dtype=float32, numpy=-0.876626>, <tf.Tensor: shape=(), dtype=float32, numpy=0.9359127>, <tf.Tensor: shape=(), dtype=float32, numpy=1.99205>, <tf.Tensor: shape=(), dtype=float32, numpy=0.8824544>, <tf.Tensor: shape=(), dtype=float32, numpy=1.7860659>, <tf.Tensor: shape=(), dtype=float32, numpy=-1.6467777>, <tf.Tensor: shape=(), dtype=float32, numpy=-0.9423825>, <tf.Tensor: shape=(), dtype=float32, numpy=0.0>, <tf.Tensor: shape=(), dtype=float32, numpy=2.4232647>, <tf.Tensor: shape=(), dtype=float32, numpy=-0.6760158>, <tf.Tensor: shape=(), dtype=float32, numpy=0.73615867>, <tf.Tensor: shape=(), dtype=float32, numpy=2.2148721>, <tf.Tensor: shape=(), dtype=float32, numpy=1.2987198>, <tf.Tensor: shape=(), dtype=float32, numpy=-1.4307381>, <tf.Tensor: shape=(), dtype=float32, numpy=-0.36465818>, <tf.Tensor: shape=(), dtype=float32, numpy=0.0>, <tf.Tensor: shape=(), dtype=float32, numpy=0.7453127>, <tf.Tensor: shape=(), dtype=float32, numpy=-0.6783788>, <tf.Tensor: shape=(), dtype=float32, numpy=-1.3603563>, <tf.Tensor: shape=(), dtype=float32, numpy=0.0>, <tf.Tensor: shape=(), dtype=float32, numpy=0.9466525>, <tf.Tensor: shape=(), dtype=float32, numpy=1.0287037>, <tf.Tensor: shape=(), dtype=float32, numpy=0.9986561>, <tf.Tensor: shape=(), dtype=float32, numpy=0.7282806>, <tf.Tensor: shape=(), dtype=float32, numpy=0.8692002>, <tf.Tensor: shape=(), dtype=float32, numpy=1.0267365>, <tf.Tensor: shape=(), dtype=float32, numpy=0.957904>)\n",
      "Row 5: (<tf.Tensor: shape=(), dtype=float32, numpy=1.0>, <tf.Tensor: shape=(), dtype=float32, numpy=1.105009>, <tf.Tensor: shape=(), dtype=float32, numpy=0.32135555>, <tf.Tensor: shape=(), dtype=float32, numpy=1.5224012>, <tf.Tensor: shape=(), dtype=float32, numpy=0.8828076>, <tf.Tensor: shape=(), dtype=float32, numpy=-1.2053493>, <tf.Tensor: shape=(), dtype=float32, numpy=0.6814661>, <tf.Tensor: shape=(), dtype=float32, numpy=-1.0704639>, <tf.Tensor: shape=(), dtype=float32, numpy=-0.92187065>, <tf.Tensor: shape=(), dtype=float32, numpy=0.0>, <tf.Tensor: shape=(), dtype=float32, numpy=0.80087215>, <tf.Tensor: shape=(), dtype=float32, numpy=1.020974>, <tf.Tensor: shape=(), dtype=float32, numpy=0.9714065>, <tf.Tensor: shape=(), dtype=float32, numpy=2.2148721>, <tf.Tensor: shape=(), dtype=float32, numpy=0.5967613>, <tf.Tensor: shape=(), dtype=float32, numpy=-0.35027286>, <tf.Tensor: shape=(), dtype=float32, numpy=0.6311943>, <tf.Tensor: shape=(), dtype=float32, numpy=0.0>, <tf.Tensor: shape=(), dtype=float32, numpy=0.4799989>, <tf.Tensor: shape=(), dtype=float32, numpy=-0.37356552>, <tf.Tensor: shape=(), dtype=float32, numpy=0.11304061>, <tf.Tensor: shape=(), dtype=float32, numpy=0.0>, <tf.Tensor: shape=(), dtype=float32, numpy=0.75585645>, <tf.Tensor: shape=(), dtype=float32, numpy=1.361057>, <tf.Tensor: shape=(), dtype=float32, numpy=0.9866097>, <tf.Tensor: shape=(), dtype=float32, numpy=0.83808464>, <tf.Tensor: shape=(), dtype=float32, numpy=1.1332952>, <tf.Tensor: shape=(), dtype=float32, numpy=0.8722449>, <tf.Tensor: shape=(), dtype=float32, numpy=0.8084865>)\n"
     ]
    },
    {
     "name": "stderr",
     "output_type": "stream",
     "text": [
      "2024-06-20 12:13:27.287340: I tensorflow/compiler/xla/stream_executor/cuda/cuda_gpu_executor.cc:880] could not open file to read NUMA node: /sys/bus/pci/devices/0000:01:00.0/numa_node\n",
      "Your kernel may have been built without NUMA support.\n",
      "2024-06-20 12:13:27.287437: I tensorflow/compiler/xla/stream_executor/cuda/cuda_gpu_executor.cc:880] could not open file to read NUMA node: /sys/bus/pci/devices/0000:01:00.0/numa_node\n",
      "Your kernel may have been built without NUMA support.\n",
      "2024-06-20 12:13:27.287462: I tensorflow/compiler/xla/stream_executor/cuda/cuda_gpu_executor.cc:880] could not open file to read NUMA node: /sys/bus/pci/devices/0000:01:00.0/numa_node\n",
      "Your kernel may have been built without NUMA support.\n",
      "2024-06-20 12:13:28.913167: I tensorflow/compiler/xla/stream_executor/cuda/cuda_gpu_executor.cc:880] could not open file to read NUMA node: /sys/bus/pci/devices/0000:01:00.0/numa_node\n",
      "Your kernel may have been built without NUMA support.\n",
      "2024-06-20 12:13:28.913213: I tensorflow/compiler/xla/stream_executor/cuda/cuda_gpu_executor.cc:880] could not open file to read NUMA node: /sys/bus/pci/devices/0000:01:00.0/numa_node\n",
      "Your kernel may have been built without NUMA support.\n",
      "2024-06-20 12:13:28.913223: I tensorflow/core/common_runtime/gpu/gpu_device.cc:1977] Could not identify NUMA node of platform GPU id 0, defaulting to 0.  Your kernel may not have been built with NUMA support.\n",
      "2024-06-20 12:13:28.913256: I tensorflow/compiler/xla/stream_executor/cuda/cuda_gpu_executor.cc:880] could not open file to read NUMA node: /sys/bus/pci/devices/0000:01:00.0/numa_node\n",
      "Your kernel may have been built without NUMA support.\n",
      "2024-06-20 12:13:28.913275: I tensorflow/core/common_runtime/gpu/gpu_device.cc:1886] Created device /job:localhost/replica:0/task:0/device:GPU:0 with 6595 MB memory:  -> device: 0, name: NVIDIA GeForce GTX 1070, pci bus id: 0000:01:00.0, compute capability: 6.1\n"
     ]
    }
   ],
   "source": [
    "ds = tf.data.experimental.CsvDataset(gz,[float(),]*(FEATURES+1), compression_type=\"GZIP\")"
   ]
  },
  {
   "cell_type": "code",
   "execution_count": 12,
   "id": "3c771ef2-61b7-450b-b591-05926aea1e2f",
   "metadata": {},
   "outputs": [],
   "source": [
    "def pack_row(*row):\n",
    "  label = row[0]\n",
    "  features = tf.stack(row[1:],1)\n",
    "  label = tf.expand_dims(label, axis=1) # dans l'exo cette ligne n'existe pas et ça génére un mismatch entre la sortie (None,1) et (None,)\n",
    "  return features, label"
   ]
  },
  {
   "cell_type": "code",
   "execution_count": 13,
   "id": "4c37375b-6041-4dea-8351-9465d8d47c83",
   "metadata": {},
   "outputs": [],
   "source": [
    "packed_ds = ds.batch(10000).map(pack_row).unbatch()"
   ]
  },
  {
   "cell_type": "code",
   "execution_count": 14,
   "id": "f81a73bc-53f1-4b9c-861d-af6b819a6a1a",
   "metadata": {},
   "outputs": [],
   "source": [
    "N_VALIDATION = int(1e3)\n",
    "N_TRAIN = int(1e4)\n",
    "BUFFER_SIZE = int(1e4)\n",
    "BATCH_SIZE = 500\n",
    "STEPS_PER_EPOCH = N_TRAIN//BATCH_SIZE #10000 / 500 => 20"
   ]
  },
  {
   "cell_type": "code",
   "execution_count": 15,
   "id": "76bef06d-c8c2-4a1f-b63c-6db6f26ea948",
   "metadata": {},
   "outputs": [],
   "source": [
    "validate_ds = packed_ds.take(N_VALIDATION).cache()\n",
    "train_ds = packed_ds.skip(N_VALIDATION).take(N_TRAIN).cache()"
   ]
  },
  {
   "cell_type": "code",
   "execution_count": 16,
   "id": "a30f6426-52a1-4994-a25b-8a2c208777d5",
   "metadata": {},
   "outputs": [],
   "source": [
    "validate_ds = validate_ds.batch(BATCH_SIZE)\n",
    "train_ds = train_ds.shuffle(BUFFER_SIZE).repeat().batch(BATCH_SIZE)"
   ]
  },
  {
   "cell_type": "code",
   "execution_count": 17,
   "id": "c8b7a68a-8eac-439b-8322-029678d24465",
   "metadata": {},
   "outputs": [],
   "source": [
    "lr_schedule = tf.keras.optimizers.schedules.InverseTimeDecay(\n",
    "  0.001,\n",
    "  decay_steps=STEPS_PER_EPOCH*1000,\n",
    "  decay_rate=1,\n",
    "  staircase=False)\n",
    "\n",
    "def get_optimizer():\n",
    "  return tf.keras.optimizers.Adam(lr_schedule)"
   ]
  },
  {
   "cell_type": "code",
   "execution_count": 42,
   "id": "27d65e43-7360-421b-b8cf-2d3f74c0790b",
   "metadata": {},
   "outputs": [],
   "source": [
    "def get_callbacks(name):\n",
    "  return [\n",
    "    tfdocs.modeling.EpochDots(),\n",
    "    tf.keras.callbacks.EarlyStopping(monitor='val_binary_crossentropy', patience=200),\n",
    "    tf.keras.callbacks.TensorBoard(logdir+'/'+name),\n",
    "  ]"
   ]
  },
  {
   "cell_type": "code",
   "execution_count": 52,
   "id": "30404fc0-fcd6-47eb-b278-b08034a733a2",
   "metadata": {},
   "outputs": [],
   "source": []
  },
  {
   "cell_type": "code",
   "execution_count": 95,
   "id": "199aee37-d7d3-4c14-9275-5796f6998a31",
   "metadata": {},
   "outputs": [
    {
     "data": {
      "text/plain": [
       "<_BatchDataset element_spec=(TensorSpec(shape=(None, 28), dtype=tf.float32, name=None), TensorSpec(shape=(None, 1), dtype=tf.float32, name=None))>"
      ]
     },
     "execution_count": 95,
     "metadata": {},
     "output_type": "execute_result"
    }
   ],
   "source": [
    "train_ds\n"
   ]
  },
  {
   "cell_type": "code",
   "execution_count": 96,
   "id": "3e5dff1a-9dca-4980-a662-d638d4cb70db",
   "metadata": {},
   "outputs": [
    {
     "data": {
      "text/plain": [
       "<_BatchDataset element_spec=(TensorSpec(shape=(None, 28), dtype=tf.float32, name=None), TensorSpec(shape=(None, 1), dtype=tf.float32, name=None))>"
      ]
     },
     "execution_count": 96,
     "metadata": {},
     "output_type": "execute_result"
    }
   ],
   "source": [
    "validate_ds"
   ]
  },
  {
   "cell_type": "code",
   "execution_count": 56,
   "id": "f269d589-2126-4723-b461-a20a54805d37",
   "metadata": {},
   "outputs": [],
   "source": [
    "def compile_and_fit(model, name, optimizer=None, max_epochs=10000):\n",
    "  if optimizer is None:\n",
    "    optimizer = get_optimizer()\n",
    "  model.compile(optimizer=optimizer,\n",
    "                loss=tf.keras.losses.BinaryCrossentropy(from_logits=True),\n",
    "                metrics=[\n",
    "                  tf.keras.metrics.BinaryCrossentropy(\n",
    "                      from_logits=True, name='binary_crossentropy'),\n",
    "                  'accuracy'])\n",
    "\n",
    "  model.summary()\n",
    "  print(STEPS_PER_EPOCH, max_epochs)\n",
    "  history = model.fit(\n",
    "    train_ds,\n",
    "    steps_per_epoch = STEPS_PER_EPOCH,\n",
    "    epochs=max_epochs,\n",
    "    validation_data=validate_ds,\n",
    "    callbacks=get_callbacks(name),\n",
    "    verbose=0)\n",
    "  return history"
   ]
  },
  {
   "cell_type": "code",
   "execution_count": 49,
   "id": "470d6f83-ee1b-403c-a27d-94bcc06bb73e",
   "metadata": {},
   "outputs": [
    {
     "data": {
      "text/plain": [
       "20"
      ]
     },
     "execution_count": 49,
     "metadata": {},
     "output_type": "execute_result"
    }
   ],
   "source": [
    "STEPS_PER_EPOCH"
   ]
  },
  {
   "cell_type": "code",
   "execution_count": 57,
   "id": "348cddc0-bbd9-4cd0-a511-a91f7b9958a5",
   "metadata": {},
   "outputs": [],
   "source": [
    "tiny_model = tf.keras.Sequential([\n",
    "    layers.Dense(16, activation='elu', input_shape=(FEATURES,)),\n",
    "    layers.Dense(1)\n",
    "])"
   ]
  },
  {
   "cell_type": "code",
   "execution_count": 54,
   "id": "a1877ffa-653e-4947-beec-d4066eaa8b55",
   "metadata": {},
   "outputs": [],
   "source": [
    "size_histories = {}\n"
   ]
  },
  {
   "cell_type": "code",
   "execution_count": 58,
   "id": "b9f4ea45-8a30-4a8b-ad1b-8921da63c774",
   "metadata": {},
   "outputs": [
    {
     "name": "stdout",
     "output_type": "stream",
     "text": [
      "Model: \"sequential_3\"\n",
      "_________________________________________________________________\n",
      " Layer (type)                Output Shape              Param #   \n",
      "=================================================================\n",
      " dense_6 (Dense)             (None, 16)                464       \n",
      "                                                                 \n",
      " dense_7 (Dense)             (None, 1)                 17        \n",
      "                                                                 \n",
      "=================================================================\n",
      "Total params: 481 (1.88 KB)\n",
      "Trainable params: 481 (1.88 KB)\n",
      "Non-trainable params: 0 (0.00 Byte)\n",
      "_________________________________________________________________\n",
      "20 10000\n",
      "WARNING:tensorflow:6 out of the last 11 calls to <function Model.make_test_function.<locals>.test_function at 0x7f3c1a7dc720> triggered tf.function retracing. Tracing is expensive and the excessive number of tracings could be due to (1) creating @tf.function repeatedly in a loop, (2) passing tensors with different shapes, (3) passing Python objects instead of tensors. For (1), please define your @tf.function outside of the loop. For (2), @tf.function has reduce_retracing=True option that can avoid unnecessary retracing. For (3), please refer to https://www.tensorflow.org/guide/function#controlling_retracing and https://www.tensorflow.org/api_docs/python/tf/function for  more details.\n",
      "\n",
      "Epoch: 0, accuracy:0.4807,  binary_crossentropy:0.7830,  loss:0.7830,  val_accuracy:0.4670,  val_binary_crossentropy:0.7618,  val_loss:0.7618,  \n",
      ".."
     ]
    },
    {
     "name": "stderr",
     "output_type": "stream",
     "text": [
      "2024-06-20 12:23:55.122691: I tensorflow/core/framework/local_rendezvous.cc:421] Local rendezvous recv item cancelled. Key hash: 4820092430375305599\n",
      "2024-06-20 12:23:55.122761: I tensorflow/core/framework/local_rendezvous.cc:421] Local rendezvous recv item cancelled. Key hash: 1052680143665384865\n",
      "2024-06-20 12:23:55.122797: I tensorflow/core/framework/local_rendezvous.cc:421] Local rendezvous recv item cancelled. Key hash: 10628074834390090960\n"
     ]
    },
    {
     "name": "stdout",
     "output_type": "stream",
     "text": [
      "..................................................................................................\n",
      "Epoch: 100, accuracy:0.6011,  binary_crossentropy:0.6252,  loss:0.6252,  val_accuracy:0.5600,  val_binary_crossentropy:0.6264,  val_loss:0.6264,  \n",
      "....................................................................................................\n",
      "Epoch: 200, accuracy:0.6238,  binary_crossentropy:0.6117,  loss:0.6117,  val_accuracy:0.6030,  val_binary_crossentropy:0.6109,  val_loss:0.6109,  \n",
      "....................................................................................................\n",
      "Epoch: 300, accuracy:0.6472,  binary_crossentropy:0.6002,  loss:0.6002,  val_accuracy:0.6170,  val_binary_crossentropy:0.6026,  val_loss:0.6026,  \n",
      "....................................................................................................\n",
      "Epoch: 400, accuracy:0.6594,  binary_crossentropy:0.5910,  loss:0.5910,  val_accuracy:0.6260,  val_binary_crossentropy:0.5968,  val_loss:0.5968,  \n",
      "....................................................................................................\n",
      "Epoch: 500, accuracy:0.6639,  binary_crossentropy:0.5859,  loss:0.5859,  val_accuracy:0.6530,  val_binary_crossentropy:0.5924,  val_loss:0.5924,  \n",
      "....................................................................................................\n",
      "Epoch: 600, accuracy:0.6703,  binary_crossentropy:0.5825,  loss:0.5825,  val_accuracy:0.6400,  val_binary_crossentropy:0.5930,  val_loss:0.5930,  \n",
      "....................................................................................................\n",
      "Epoch: 700, accuracy:0.6708,  binary_crossentropy:0.5800,  loss:0.5800,  val_accuracy:0.6430,  val_binary_crossentropy:0.5908,  val_loss:0.5908,  \n",
      "....................................................................................................\n",
      "Epoch: 800, accuracy:0.6724,  binary_crossentropy:0.5777,  loss:0.5777,  val_accuracy:0.6490,  val_binary_crossentropy:0.5900,  val_loss:0.5900,  \n",
      "....................................................................................................\n",
      "Epoch: 900, accuracy:0.6752,  binary_crossentropy:0.5760,  loss:0.5760,  val_accuracy:0.6470,  val_binary_crossentropy:0.5906,  val_loss:0.5906,  \n",
      "....................................................................................................\n",
      "Epoch: 1000, accuracy:0.6756,  binary_crossentropy:0.5757,  loss:0.5757,  val_accuracy:0.6620,  val_binary_crossentropy:0.5883,  val_loss:0.5883,  \n",
      "....................................................................................................\n",
      "Epoch: 1100, accuracy:0.6758,  binary_crossentropy:0.5735,  loss:0.5735,  val_accuracy:0.6590,  val_binary_crossentropy:0.5886,  val_loss:0.5886,  \n",
      "....................................................................................................\n",
      "Epoch: 1200, accuracy:0.6758,  binary_crossentropy:0.5726,  loss:0.5726,  val_accuracy:0.6550,  val_binary_crossentropy:0.5886,  val_loss:0.5886,  \n",
      "....................................................................................................\n",
      "Epoch: 1300, accuracy:0.6787,  binary_crossentropy:0.5718,  loss:0.5718,  val_accuracy:0.6550,  val_binary_crossentropy:0.5894,  val_loss:0.5894,  \n",
      "....................................................................................................\n",
      "Epoch: 1400, accuracy:0.6811,  binary_crossentropy:0.5705,  loss:0.5705,  val_accuracy:0.6610,  val_binary_crossentropy:0.5884,  val_loss:0.5884,  \n",
      "....................................................................................................\n",
      "Epoch: 1500, accuracy:0.6805,  binary_crossentropy:0.5695,  loss:0.5695,  val_accuracy:0.6640,  val_binary_crossentropy:0.5877,  val_loss:0.5877,  \n",
      "....................................................................................................\n",
      "Epoch: 1600, accuracy:0.6817,  binary_crossentropy:0.5686,  loss:0.5686,  val_accuracy:0.6580,  val_binary_crossentropy:0.5875,  val_loss:0.5875,  \n",
      "....................................................................................................\n",
      "Epoch: 1700, accuracy:0.6823,  binary_crossentropy:0.5674,  loss:0.5674,  val_accuracy:0.6630,  val_binary_crossentropy:0.5865,  val_loss:0.5865,  \n",
      "....................................................................................................\n",
      "Epoch: 1800, accuracy:0.6819,  binary_crossentropy:0.5667,  loss:0.5667,  val_accuracy:0.6640,  val_binary_crossentropy:0.5854,  val_loss:0.5854,  \n",
      "....................................................................................................\n",
      "Epoch: 1900, accuracy:0.6837,  binary_crossentropy:0.5659,  loss:0.5659,  val_accuracy:0.6580,  val_binary_crossentropy:0.5855,  val_loss:0.5855,  \n",
      "....................................................................................................\n",
      "Epoch: 2000, accuracy:0.6849,  binary_crossentropy:0.5652,  loss:0.5652,  val_accuracy:0.6530,  val_binary_crossentropy:0.5860,  val_loss:0.5860,  \n",
      "....................................................................................................\n",
      "Epoch: 2100, accuracy:0.6853,  binary_crossentropy:0.5648,  loss:0.5648,  val_accuracy:0.6580,  val_binary_crossentropy:0.5844,  val_loss:0.5844,  \n",
      "....................................................................................................\n",
      "Epoch: 2200, accuracy:0.6818,  binary_crossentropy:0.5638,  loss:0.5638,  val_accuracy:0.6630,  val_binary_crossentropy:0.5831,  val_loss:0.5831,  \n",
      "....................................................................................................\n",
      "Epoch: 2300, accuracy:0.6847,  binary_crossentropy:0.5634,  loss:0.5634,  val_accuracy:0.6570,  val_binary_crossentropy:0.5827,  val_loss:0.5827,  \n",
      "....................................................................................................\n",
      "Epoch: 2400, accuracy:0.6830,  binary_crossentropy:0.5632,  loss:0.5632,  val_accuracy:0.6580,  val_binary_crossentropy:0.5833,  val_loss:0.5833,  \n",
      "....................................................................................................\n",
      "Epoch: 2500, accuracy:0.6850,  binary_crossentropy:0.5621,  loss:0.5621,  val_accuracy:0.6590,  val_binary_crossentropy:0.5827,  val_loss:0.5827,  \n",
      "....................................................................................................\n",
      "Epoch: 2600, accuracy:0.6844,  binary_crossentropy:0.5616,  loss:0.5616,  val_accuracy:0.6570,  val_binary_crossentropy:0.5823,  val_loss:0.5823,  \n",
      "....................................................................................................\n",
      "Epoch: 2700, accuracy:0.6851,  binary_crossentropy:0.5611,  loss:0.5611,  val_accuracy:0.6690,  val_binary_crossentropy:0.5820,  val_loss:0.5820,  \n",
      "....................................................................................................\n",
      "Epoch: 2800, accuracy:0.6861,  binary_crossentropy:0.5605,  loss:0.5605,  val_accuracy:0.6610,  val_binary_crossentropy:0.5826,  val_loss:0.5826,  \n",
      "....................................................................................................\n",
      "Epoch: 2900, accuracy:0.6848,  binary_crossentropy:0.5599,  loss:0.5599,  val_accuracy:0.6640,  val_binary_crossentropy:0.5813,  val_loss:0.5813,  \n",
      "....................................................................................................\n",
      "Epoch: 3000, accuracy:0.6855,  binary_crossentropy:0.5596,  loss:0.5596,  val_accuracy:0.6660,  val_binary_crossentropy:0.5821,  val_loss:0.5821,  \n",
      "....................................................................................................\n",
      "Epoch: 3100, accuracy:0.6882,  binary_crossentropy:0.5596,  loss:0.5596,  val_accuracy:0.6690,  val_binary_crossentropy:0.5814,  val_loss:0.5814,  \n",
      "....................................................................................................\n",
      "Epoch: 3200, accuracy:0.6915,  binary_crossentropy:0.5587,  loss:0.5587,  val_accuracy:0.6680,  val_binary_crossentropy:0.5814,  val_loss:0.5814,  \n",
      "....................................................................................................\n",
      "Epoch: 3300, accuracy:0.6926,  binary_crossentropy:0.5585,  loss:0.5585,  val_accuracy:0.6720,  val_binary_crossentropy:0.5817,  val_loss:0.5817,  \n",
      "....................................................................................................\n",
      "Epoch: 3400, accuracy:0.6878,  binary_crossentropy:0.5581,  loss:0.5581,  val_accuracy:0.6670,  val_binary_crossentropy:0.5811,  val_loss:0.5811,  \n",
      "....................................................................................................\n",
      "Epoch: 3500, accuracy:0.6907,  binary_crossentropy:0.5578,  loss:0.5578,  val_accuracy:0.6720,  val_binary_crossentropy:0.5813,  val_loss:0.5813,  \n",
      "....................................................................................................\n",
      "Epoch: 3600, accuracy:0.6882,  binary_crossentropy:0.5580,  loss:0.5580,  val_accuracy:0.6640,  val_binary_crossentropy:0.5804,  val_loss:0.5804,  \n",
      "....................................................................................................\n",
      "Epoch: 3700, accuracy:0.6941,  binary_crossentropy:0.5573,  loss:0.5573,  val_accuracy:0.6640,  val_binary_crossentropy:0.5827,  val_loss:0.5827,  \n",
      "....................................................................................................\n",
      "Epoch: 3800, accuracy:0.6922,  binary_crossentropy:0.5569,  loss:0.5569,  val_accuracy:0.6700,  val_binary_crossentropy:0.5816,  val_loss:0.5816,  \n",
      "....................................................................................................\n",
      "Epoch: 3900, accuracy:0.6933,  binary_crossentropy:0.5566,  loss:0.5566,  val_accuracy:0.6690,  val_binary_crossentropy:0.5808,  val_loss:0.5808,  \n",
      ".................................................................................."
     ]
    }
   ],
   "source": [
    "size_histories['Tiny'] = compile_and_fit(tiny_model, 'sizes/Tiny')\n"
   ]
  },
  {
   "cell_type": "code",
   "execution_count": 60,
   "id": "eb8712e9-ce97-4e71-afc3-44f93c1eabd7",
   "metadata": {},
   "outputs": [],
   "source": [
    "medium_model = tf.keras.Sequential([\n",
    "    layers.Dense(64, activation='elu', input_shape=(FEATURES,)),\n",
    "    layers.Dense(64, activation='elu'),\n",
    "    layers.Dense(64, activation='elu'),\n",
    "    layers.Dense(1)\n",
    "])"
   ]
  },
  {
   "cell_type": "code",
   "execution_count": 61,
   "id": "43f9b18e-de02-46f0-9de9-44c9c504db70",
   "metadata": {},
   "outputs": [
    {
     "name": "stdout",
     "output_type": "stream",
     "text": [
      "Model: \"sequential_4\"\n",
      "_________________________________________________________________\n",
      " Layer (type)                Output Shape              Param #   \n",
      "=================================================================\n",
      " dense_8 (Dense)             (None, 64)                1856      \n",
      "                                                                 \n",
      " dense_9 (Dense)             (None, 64)                4160      \n",
      "                                                                 \n",
      " dense_10 (Dense)            (None, 64)                4160      \n",
      "                                                                 \n",
      " dense_11 (Dense)            (None, 1)                 65        \n",
      "                                                                 \n",
      "=================================================================\n",
      "Total params: 10241 (40.00 KB)\n",
      "Trainable params: 10241 (40.00 KB)\n",
      "Non-trainable params: 0 (0.00 Byte)\n",
      "_________________________________________________________________\n",
      "20 10000\n",
      "\n",
      "Epoch: 0, accuracy:0.4873,  binary_crossentropy:0.6944,  loss:0.6944,  val_accuracy:0.4640,  val_binary_crossentropy:0.6836,  val_loss:0.6836,  \n",
      "."
     ]
    },
    {
     "name": "stderr",
     "output_type": "stream",
     "text": [
      "2024-06-20 13:16:19.378650: I tensorflow/core/framework/local_rendezvous.cc:421] Local rendezvous recv item cancelled. Key hash: 16022069897694337571\n",
      "2024-06-20 13:16:19.378928: I tensorflow/core/framework/local_rendezvous.cc:421] Local rendezvous recv item cancelled. Key hash: 10608423756708943253\n",
      "2024-06-20 13:16:19.378963: I tensorflow/core/framework/local_rendezvous.cc:421] Local rendezvous recv item cancelled. Key hash: 690498525601109573\n"
     ]
    },
    {
     "name": "stdout",
     "output_type": "stream",
     "text": [
      "...................................................................................................\n",
      "Epoch: 100, accuracy:0.7172,  binary_crossentropy:0.5305,  loss:0.5305,  val_accuracy:0.6680,  val_binary_crossentropy:0.6020,  val_loss:0.6020,  \n",
      "....................................................................................................\n",
      "Epoch: 200, accuracy:0.7802,  binary_crossentropy:0.4352,  loss:0.4352,  val_accuracy:0.6430,  val_binary_crossentropy:0.6982,  val_loss:0.6982,  \n",
      "............................................................."
     ]
    }
   ],
   "source": [
    "size_histories['Medium']  = compile_and_fit(medium_model, \"sizes/Medium\")\n"
   ]
  },
  {
   "cell_type": "code",
   "execution_count": 62,
   "id": "a271d9b8-57d6-4603-819b-bc3a3fc73dab",
   "metadata": {},
   "outputs": [],
   "source": [
    "large_model = tf.keras.Sequential([\n",
    "    layers.Dense(512, activation='elu', input_shape=(FEATURES,)),\n",
    "    layers.Dense(512, activation='elu'),\n",
    "    layers.Dense(512, activation='elu'),\n",
    "    layers.Dense(512, activation='elu'),\n",
    "    layers.Dense(1)\n",
    "])"
   ]
  },
  {
   "cell_type": "code",
   "execution_count": 63,
   "id": "3cf21503-8d57-4494-b4d1-d693cd7b7d61",
   "metadata": {},
   "outputs": [
    {
     "name": "stdout",
     "output_type": "stream",
     "text": [
      "Model: \"sequential_5\"\n",
      "_________________________________________________________________\n",
      " Layer (type)                Output Shape              Param #   \n",
      "=================================================================\n",
      " dense_12 (Dense)            (None, 512)               14848     \n",
      "                                                                 \n",
      " dense_13 (Dense)            (None, 512)               262656    \n",
      "                                                                 \n",
      " dense_14 (Dense)            (None, 512)               262656    \n",
      "                                                                 \n",
      " dense_15 (Dense)            (None, 512)               262656    \n",
      "                                                                 \n",
      " dense_16 (Dense)            (None, 1)                 513       \n",
      "                                                                 \n",
      "=================================================================\n",
      "Total params: 803329 (3.06 MB)\n",
      "Trainable params: 803329 (3.06 MB)\n",
      "Non-trainable params: 0 (0.00 Byte)\n",
      "_________________________________________________________________\n",
      "20 10000\n",
      "\n",
      "Epoch: 0, accuracy:0.5128,  binary_crossentropy:0.8469,  loss:0.8469,  val_accuracy:0.4720,  val_binary_crossentropy:0.6981,  val_loss:0.6981,  \n",
      "."
     ]
    },
    {
     "name": "stderr",
     "output_type": "stream",
     "text": [
      "2024-06-20 13:24:45.689750: I tensorflow/core/framework/local_rendezvous.cc:421] Local rendezvous recv item cancelled. Key hash: 6826301605450314379\n",
      "2024-06-20 13:24:45.689864: I tensorflow/core/framework/local_rendezvous.cc:421] Local rendezvous recv item cancelled. Key hash: 6041199798840450329\n",
      "2024-06-20 13:24:45.689932: I tensorflow/core/framework/local_rendezvous.cc:421] Local rendezvous recv item cancelled. Key hash: 4141405783816510582\n"
     ]
    },
    {
     "name": "stdout",
     "output_type": "stream",
     "text": [
      "...................................................................................................\n",
      "Epoch: 100, accuracy:1.0000,  binary_crossentropy:0.0025,  loss:0.0025,  val_accuracy:0.6490,  val_binary_crossentropy:1.7604,  val_loss:1.7604,  \n",
      "....................................................................................................\n",
      "Epoch: 200, accuracy:1.0000,  binary_crossentropy:0.0001,  loss:0.0001,  val_accuracy:0.6540,  val_binary_crossentropy:2.4324,  val_loss:2.4324,  \n",
      "........................"
     ]
    }
   ],
   "source": [
    "size_histories['large'] = compile_and_fit(large_model, \"sizes/large\")\n"
   ]
  },
  {
   "cell_type": "code",
   "execution_count": 65,
   "id": "02ff4371-a4b5-456c-b895-0eed72bacb5e",
   "metadata": {},
   "outputs": [],
   "source": [
    "regularizer_histories = {}\n",
    "regularizer_histories['Tiny'] = size_histories['Tiny']"
   ]
  },
  {
   "cell_type": "code",
   "execution_count": 66,
   "id": "0bb52e0a-7180-4efd-aa06-fe119c872848",
   "metadata": {},
   "outputs": [
    {
     "name": "stdout",
     "output_type": "stream",
     "text": [
      "Model: \"sequential_7\"\n",
      "_________________________________________________________________\n",
      " Layer (type)                Output Shape              Param #   \n",
      "=================================================================\n",
      " dense_22 (Dense)            (None, 512)               14848     \n",
      "                                                                 \n",
      " dense_23 (Dense)            (None, 512)               262656    \n",
      "                                                                 \n",
      " dense_24 (Dense)            (None, 512)               262656    \n",
      "                                                                 \n",
      " dense_25 (Dense)            (None, 512)               262656    \n",
      "                                                                 \n",
      " dense_26 (Dense)            (None, 1)                 513       \n",
      "                                                                 \n",
      "=================================================================\n",
      "Total params: 803329 (3.06 MB)\n",
      "Trainable params: 803329 (3.06 MB)\n",
      "Non-trainable params: 0 (0.00 Byte)\n",
      "_________________________________________________________________\n",
      "20 10000\n",
      "\n",
      "Epoch: 0, accuracy:0.5196,  binary_crossentropy:0.7435,  loss:2.2453,  val_accuracy:0.5160,  val_binary_crossentropy:0.6704,  val_loss:2.0730,  \n",
      "."
     ]
    },
    {
     "name": "stderr",
     "output_type": "stream",
     "text": [
      "2024-06-20 14:07:20.725514: I tensorflow/core/framework/local_rendezvous.cc:421] Local rendezvous recv item cancelled. Key hash: 9311333154006756914\n"
     ]
    },
    {
     "name": "stdout",
     "output_type": "stream",
     "text": [
      "...................................................................................................\n",
      "Epoch: 100, accuracy:0.6527,  binary_crossentropy:0.5953,  loss:0.6177,  val_accuracy:0.6510,  val_binary_crossentropy:0.5858,  val_loss:0.6084,  \n",
      "....................................................................................................\n",
      "Epoch: 200, accuracy:0.6623,  binary_crossentropy:0.5918,  loss:0.6134,  val_accuracy:0.6410,  val_binary_crossentropy:0.5884,  val_loss:0.6102,  \n",
      "....................................................................................................\n",
      "Epoch: 300, accuracy:0.6781,  binary_crossentropy:0.5755,  loss:0.5961,  val_accuracy:0.7070,  val_binary_crossentropy:0.5835,  val_loss:0.6041,  \n",
      "........................................................."
     ]
    }
   ],
   "source": [
    "l2_model = tf.keras.Sequential([\n",
    "    layers.Dense(512, activation='elu',\n",
    "                 kernel_regularizer=regularizers.l2(0.001),\n",
    "                 input_shape=(FEATURES,)),\n",
    "    layers.Dense(512, activation='elu',\n",
    "                 kernel_regularizer=regularizers.l2(0.001)),\n",
    "    layers.Dense(512, activation='elu',\n",
    "                 kernel_regularizer=regularizers.l2(0.001)),\n",
    "    layers.Dense(512, activation='elu',\n",
    "                 kernel_regularizer=regularizers.l2(0.001)),\n",
    "    layers.Dense(1)\n",
    "])\n",
    "\n",
    "regularizer_histories['l2'] = compile_and_fit(l2_model, \"regularizers/l2\")"
   ]
  },
  {
   "cell_type": "code",
   "execution_count": 67,
   "id": "1eb41e46-b3a6-461b-b598-cb6380987d58",
   "metadata": {},
   "outputs": [
    {
     "name": "stdout",
     "output_type": "stream",
     "text": [
      "Model: \"sequential_8\"\n",
      "_________________________________________________________________\n",
      " Layer (type)                Output Shape              Param #   \n",
      "=================================================================\n",
      " dense_27 (Dense)            (None, 512)               14848     \n",
      "                                                                 \n",
      " dropout (Dropout)           (None, 512)               0         \n",
      "                                                                 \n",
      " dense_28 (Dense)            (None, 512)               262656    \n",
      "                                                                 \n",
      " dropout_1 (Dropout)         (None, 512)               0         \n",
      "                                                                 \n",
      " dense_29 (Dense)            (None, 512)               262656    \n",
      "                                                                 \n",
      " dropout_2 (Dropout)         (None, 512)               0         \n",
      "                                                                 \n",
      " dense_30 (Dense)            (None, 512)               262656    \n",
      "                                                                 \n",
      " dropout_3 (Dropout)         (None, 512)               0         \n",
      "                                                                 \n",
      " dense_31 (Dense)            (None, 1)                 513       \n",
      "                                                                 \n",
      "=================================================================\n",
      "Total params: 803329 (3.06 MB)\n",
      "Trainable params: 803329 (3.06 MB)\n",
      "Non-trainable params: 0 (0.00 Byte)\n",
      "_________________________________________________________________\n",
      "20 10000\n",
      "\n",
      "Epoch: 0, accuracy:0.5103,  binary_crossentropy:0.8013,  loss:0.8013,  val_accuracy:0.5370,  val_binary_crossentropy:0.6758,  val_loss:0.6758,  \n",
      "."
     ]
    },
    {
     "name": "stderr",
     "output_type": "stream",
     "text": [
      "2024-06-20 14:25:34.447088: I tensorflow/core/framework/local_rendezvous.cc:421] Local rendezvous recv item cancelled. Key hash: 6826301605450314379\n",
      "2024-06-20 14:25:34.447163: I tensorflow/core/framework/local_rendezvous.cc:421] Local rendezvous recv item cancelled. Key hash: 4141405783816510582\n"
     ]
    },
    {
     "name": "stdout",
     "output_type": "stream",
     "text": [
      "...................................................................................................\n",
      "Epoch: 100, accuracy:0.6587,  binary_crossentropy:0.5967,  loss:0.5967,  val_accuracy:0.6730,  val_binary_crossentropy:0.5821,  val_loss:0.5821,  \n",
      "....................................................................................................\n",
      "Epoch: 200, accuracy:0.6888,  binary_crossentropy:0.5518,  loss:0.5518,  val_accuracy:0.6800,  val_binary_crossentropy:0.5823,  val_loss:0.5823,  \n",
      "....................................................................................................\n",
      "Epoch: 300, accuracy:0.7204,  binary_crossentropy:0.5141,  loss:0.5141,  val_accuracy:0.6750,  val_binary_crossentropy:0.6195,  val_loss:0.6195,  \n",
      "...................."
     ]
    }
   ],
   "source": [
    "dropout_model = tf.keras.Sequential([\n",
    "    layers.Dense(512, activation='elu', input_shape=(FEATURES,)),\n",
    "    layers.Dropout(0.5),\n",
    "    layers.Dense(512, activation='elu'),\n",
    "    layers.Dropout(0.5),\n",
    "    layers.Dense(512, activation='elu'),\n",
    "    layers.Dropout(0.5),\n",
    "    layers.Dense(512, activation='elu'),\n",
    "    layers.Dropout(0.5),\n",
    "    layers.Dense(1)\n",
    "])\n",
    "\n",
    "regularizer_histories['dropout'] = compile_and_fit(dropout_model, \"regularizers/dropout\")"
   ]
  },
  {
   "cell_type": "code",
   "execution_count": 68,
   "id": "16e97320-bc09-490d-99b7-beee1ff5a964",
   "metadata": {},
   "outputs": [
    {
     "name": "stdout",
     "output_type": "stream",
     "text": [
      "Model: \"sequential_9\"\n",
      "_________________________________________________________________\n",
      " Layer (type)                Output Shape              Param #   \n",
      "=================================================================\n",
      " dense_32 (Dense)            (None, 512)               14848     \n",
      "                                                                 \n",
      " dropout_4 (Dropout)         (None, 512)               0         \n",
      "                                                                 \n",
      " dense_33 (Dense)            (None, 512)               262656    \n",
      "                                                                 \n",
      " dropout_5 (Dropout)         (None, 512)               0         \n",
      "                                                                 \n",
      " dense_34 (Dense)            (None, 512)               262656    \n",
      "                                                                 \n",
      " dropout_6 (Dropout)         (None, 512)               0         \n",
      "                                                                 \n",
      " dense_35 (Dense)            (None, 512)               262656    \n",
      "                                                                 \n",
      " dropout_7 (Dropout)         (None, 512)               0         \n",
      "                                                                 \n",
      " dense_36 (Dense)            (None, 1)                 513       \n",
      "                                                                 \n",
      "=================================================================\n",
      "Total params: 803329 (3.06 MB)\n",
      "Trainable params: 803329 (3.06 MB)\n",
      "Non-trainable params: 0 (0.00 Byte)\n",
      "_________________________________________________________________\n",
      "20 10000\n",
      "\n",
      "Epoch: 0, accuracy:0.4981,  binary_crossentropy:0.8091,  loss:0.9677,  val_accuracy:0.4710,  val_binary_crossentropy:0.6927,  val_loss:0.8506,  \n",
      "."
     ]
    },
    {
     "name": "stderr",
     "output_type": "stream",
     "text": [
      "2024-06-20 14:27:39.231074: I tensorflow/core/framework/local_rendezvous.cc:421] Local rendezvous recv item cancelled. Key hash: 6218956072787107339\n",
      "2024-06-20 14:27:39.231126: I tensorflow/core/framework/local_rendezvous.cc:421] Local rendezvous recv item cancelled. Key hash: 9311333154006756914\n"
     ]
    },
    {
     "name": "stdout",
     "output_type": "stream",
     "text": [
      "...................................................................................................\n",
      "Epoch: 100, accuracy:0.6465,  binary_crossentropy:0.6049,  loss:0.6352,  val_accuracy:0.6590,  val_binary_crossentropy:0.5864,  val_loss:0.6165,  \n",
      "....................................................................................................\n",
      "Epoch: 200, accuracy:0.6644,  binary_crossentropy:0.5914,  loss:0.6166,  val_accuracy:0.6710,  val_binary_crossentropy:0.5687,  val_loss:0.5939,  \n",
      "....................................................................................................\n",
      "Epoch: 300, accuracy:0.6703,  binary_crossentropy:0.5812,  loss:0.6089,  val_accuracy:0.6950,  val_binary_crossentropy:0.5625,  val_loss:0.5902,  \n",
      "....................................................................................................\n",
      "Epoch: 400, accuracy:0.6749,  binary_crossentropy:0.5764,  loss:0.6063,  val_accuracy:0.6790,  val_binary_crossentropy:0.5577,  val_loss:0.5875,  \n",
      "....................................................................................................\n",
      "Epoch: 500, accuracy:0.6769,  binary_crossentropy:0.5708,  loss:0.6023,  val_accuracy:0.6880,  val_binary_crossentropy:0.5529,  val_loss:0.5845,  \n",
      "....................................................................................................\n",
      "Epoch: 600, accuracy:0.6876,  binary_crossentropy:0.5629,  loss:0.5962,  val_accuracy:0.6920,  val_binary_crossentropy:0.5453,  val_loss:0.5786,  \n",
      "....................................................................................................\n",
      "Epoch: 700, accuracy:0.6860,  binary_crossentropy:0.5627,  loss:0.5972,  val_accuracy:0.6780,  val_binary_crossentropy:0.5540,  val_loss:0.5885,  \n",
      "....................................................................................................\n",
      "Epoch: 800, accuracy:0.6967,  binary_crossentropy:0.5596,  loss:0.5952,  val_accuracy:0.6980,  val_binary_crossentropy:0.5397,  val_loss:0.5753,  \n",
      "....................................................................................................\n",
      "Epoch: 900, accuracy:0.6926,  binary_crossentropy:0.5590,  loss:0.5957,  val_accuracy:0.7040,  val_binary_crossentropy:0.5392,  val_loss:0.5759,  \n",
      "....................................................................................................\n",
      "Epoch: 1000, accuracy:0.7035,  binary_crossentropy:0.5516,  loss:0.5897,  val_accuracy:0.6890,  val_binary_crossentropy:0.5440,  val_loss:0.5820,  \n",
      "....................................................................................................\n",
      "Epoch: 1100, accuracy:0.7006,  binary_crossentropy:0.5497,  loss:0.5891,  val_accuracy:0.6980,  val_binary_crossentropy:0.5441,  val_loss:0.5835,  \n",
      "..............................................."
     ]
    }
   ],
   "source": [
    "combined_model = tf.keras.Sequential([\n",
    "    layers.Dense(512, kernel_regularizer=regularizers.l2(0.0001),\n",
    "                 activation='elu', input_shape=(FEATURES,)),\n",
    "    layers.Dropout(0.5),\n",
    "    layers.Dense(512, kernel_regularizer=regularizers.l2(0.0001),\n",
    "                 activation='elu'),\n",
    "    layers.Dropout(0.5),\n",
    "    layers.Dense(512, kernel_regularizer=regularizers.l2(0.0001),\n",
    "                 activation='elu'),\n",
    "    layers.Dropout(0.5),\n",
    "    layers.Dense(512, kernel_regularizer=regularizers.l2(0.0001),\n",
    "                 activation='elu'),\n",
    "    layers.Dropout(0.5),\n",
    "    layers.Dense(1)\n",
    "])\n",
    "\n",
    "regularizer_histories['combined'] = compile_and_fit(combined_model, \"regularizers/combined\")"
   ]
  }
 ],
 "metadata": {
  "kernelspec": {
   "display_name": "Python 3 (ipykernel)",
   "language": "python",
   "name": "python3"
  },
  "language_info": {
   "codemirror_mode": {
    "name": "ipython",
    "version": 3
   },
   "file_extension": ".py",
   "mimetype": "text/x-python",
   "name": "python",
   "nbconvert_exporter": "python",
   "pygments_lexer": "ipython3",
   "version": "3.11.0rc1"
  }
 },
 "nbformat": 4,
 "nbformat_minor": 5
}
