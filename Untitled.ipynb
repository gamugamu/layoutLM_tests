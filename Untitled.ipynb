{
 "cells": [
  {
   "cell_type": "code",
   "execution_count": 2,
   "id": "61f82726-1570-4bab-a5ed-11b913852538",
   "metadata": {},
   "outputs": [
    {
     "name": "stdout",
     "output_type": "stream",
     "text": [
      "Num GPUs Available:  1\n",
      "CUDA_VISIBLE_DEVICES: None\n",
      "LD_LIBRARY_PATH: /usr/local/nvidia/lib:/usr/local/nvidia/lib64\n",
      "PATH: /usr/local/nvidia/bin:/usr/local/cuda/bin:/usr/local/sbin:/usr/local/bin:/usr/sbin:/usr/bin:/sbin:/bin\n",
      "CUDA_HOME: None\n",
      "CUDA_PATH: None\n",
      "TensorFlow - CUDA disponible: True\n",
      "TensorFlow - GPU disponible: [PhysicalDevice(name='/physical_device:GPU:0', device_type='GPU')]\n",
      "TensorFlow - CUDA disponible: True\n"
     ]
    }
   ],
   "source": [
    "## Overfit and underfit\n",
    "import tensorflow as tf\n",
    "import os\n",
    "# Vérifiez si TensorFlow détecte les GPU disponibles\n",
    "print(\"Num GPUs Available: \", len(tf.config.list_physical_devices('GPU')))\n",
    "\n",
    "# Affichez des informations sur les dispositifs GPU\n",
    "print(\"CUDA_VISIBLE_DEVICES:\", os.environ.get(\"CUDA_VISIBLE_DEVICES\"))\n",
    "print(\"LD_LIBRARY_PATH:\", os.environ.get(\"LD_LIBRARY_PATH\"))\n",
    "print(\"PATH:\", os.environ.get(\"PATH\"))\n",
    "print(\"CUDA_HOME:\", os.environ.get(\"CUDA_HOME\"))\n",
    "print(\"CUDA_PATH:\", os.environ.get(\"CUDA_PATH\"))\n",
    "# Vérification CUDA pour TensorFlow\n",
    "print(\"TensorFlow - CUDA disponible:\", tf.test.is_built_with_cuda())\n",
    "print(\"TensorFlow - GPU disponible:\", tf.config.list_physical_devices('GPU'))\n",
    "print(\"TensorFlow - CUDA disponible:\", tf.test.is_built_with_cuda())\n"
   ]
  },
  {
   "cell_type": "code",
   "execution_count": null,
   "id": "e9651650-7b97-43a7-9aab-e282b69d9641",
   "metadata": {},
   "outputs": [],
   "source": []
  }
 ],
 "metadata": {
  "kernelspec": {
   "display_name": "Python 3 (ipykernel)",
   "language": "python",
   "name": "python3"
  },
  "language_info": {
   "codemirror_mode": {
    "name": "ipython",
    "version": 3
   },
   "file_extension": ".py",
   "mimetype": "text/x-python",
   "name": "python",
   "nbconvert_exporter": "python",
   "pygments_lexer": "ipython3",
   "version": "3.11.0rc1"
  }
 },
 "nbformat": 4,
 "nbformat_minor": 5
}
